{
 "cells": [
  {
   "cell_type": "markdown",
   "metadata": {},
   "source": [
    "# I/O Read/Write Python\n",
    "I/O (Input/Output) ใน Python หมายถึงการอ่านและเขียนข้อมูลจากแหล่งต่างๆ เช่น\n",
    "- ไฟล์ (File)\n",
    "- คอนโซล (Console)\n",
    "- เน็ตเวิร์ก (Network)\n",
    "- ฐานข้อมูล (Database)\n",
    "- ฟังก์ชัน I/O พื้นฐาน\n",
    "- input() - อ่านข้อมูลจากคอนโซล\n",
    "- print() - เขียนข้อมูลไปยังคอนโซล\n",
    "- open() - อ่านและเขียนไฟล์\n",
    "- read() - อ่านข้อมูลจากไฟล์\n",
    "- write() - เขียนข้อมูลไปยังไฟล์\n",
    "- close() - ปิดไฟล์หลังการใช้งาน\n",
    "\n",
    "### ตัวอย่างการใช้ I/O\n",
    "```python\n",
    "# อ่านข้อมูลจากคอนโซล\n",
    "ชื่อ = input(\"กรุณาใส่ชื่อของคุณ: \")\n",
    "print(\"สวัสดี\", ชื่อ)\n",
    "\n",
    "# อ่านและเขียนไฟล์\n",
    "ไฟล์ = open(\"ตัวอย่าง.txt\", \"w\")\n",
    "ไฟล์.write(\"สวัสดีโลก!\")\n",
    "ไฟล์.close()\n",
    "\n",
    "ไฟล์ = open(\"ตัวอย่าง.txt\", \"r\")\n",
    "ข้อความ = ไฟล์.read()\n",
    "print(ข้อความ)\n",
    "ไฟล์\\.close()\n",
    "```\n",
    "### โหมดการเปิดไฟล์\n",
    "| Mode  | Description                      |\n",
    "|-------|----------------------------------|\n",
    "| `r`   | อ่าน (read)                     |\n",
    "| `w`   | เขียน (write)                   |\n",
    "| `a`   | เพิ่ม (append)                  |\n",
    "| `r+`  | อ่านและเขียน                    |\n",
    "| `w+`  | อ่านและเขียน (ลบข้อมูลเดิม)     |\n",
    "| `a+`  | อ่านและเพิ่ม                    |\n",
    "\n",
    "\n",
    "ข้อควรระวัง\n",
    "ต้องตรวจสอบว่าไฟล์อยู่ในตำแหน่งที่ถูกต้อง\n",
    "ต้องปิดไฟล์หลังการใช้งานเพื่อป้องกันการเสียหาย\n",
    "ต้องตรวจสอบสิทธิ์การเข้าถึงไฟล์"
   ]
  },
  {
   "cell_type": "markdown",
   "metadata": {},
   "source": [
    "## ตัวอย่าง"
   ]
  },
  {
   "cell_type": "markdown",
   "metadata": {},
   "source": [
    "### การเขียนไฟล์"
   ]
  },
  {
   "cell_type": "markdown",
   "metadata": {},
   "source": [
    "#### Method 1"
   ]
  },
  {
   "cell_type": "code",
   "execution_count": null,
   "metadata": {},
   "outputs": [],
   "source": [
    "file_write = open(\"test.txt\", \"w\")\n",
    "file_write.write(\"Hello World\")\n",
    "file_write.close()"
   ]
  },
  {
   "cell_type": "markdown",
   "metadata": {},
   "source": [
    "#### Method 2\n",
    "วิธีนี้จะนิยมเขียนมากกว่า เนื่องจากจะทำการปิดปฏิบัติการอัตโนมัติ"
   ]
  },
  {
   "cell_type": "code",
   "execution_count": 2,
   "metadata": {},
   "outputs": [],
   "source": [
    "with open(\"test.txt\",\"w\") as file_write:\n",
    "    file_write.write(\"Hello World\")\n"
   ]
  },
  {
   "cell_type": "markdown",
   "metadata": {},
   "source": [
    "### การอ่านไฟล์"
   ]
  },
  {
   "cell_type": "code",
   "execution_count": 3,
   "metadata": {},
   "outputs": [
    {
     "name": "stdout",
     "output_type": "stream",
     "text": [
      "Hello World\n"
     ]
    }
   ],
   "source": [
    "file_read = open(\"test.txt\", \"r\")\n",
    "print(file_read.read())\n",
    "file_read.close()"
   ]
  },
  {
   "cell_type": "code",
   "execution_count": 4,
   "metadata": {},
   "outputs": [
    {
     "name": "stdout",
     "output_type": "stream",
     "text": [
      "Hello World\n"
     ]
    }
   ],
   "source": [
    "with open(\"test.txt\",\"r\") as file_read:\n",
    "    print(file_read.read())"
   ]
  },
  {
   "cell_type": "markdown",
   "metadata": {},
   "source": [
    "### การเขียนไฟล์ในรูปแบบ CSV , (comma-separated values)"
   ]
  },
  {
   "cell_type": "markdown",
   "metadata": {},
   "source": [
    "### การเขียนไฟล์"
   ]
  },
  {
   "cell_type": "code",
   "execution_count": 5,
   "metadata": {},
   "outputs": [],
   "source": [
    "with open(\"data.csv\",\"w\") as file_write:\n",
    "    file_write.write(\"Name,Age\\n\")\n",
    "    file_write.write(\"John,25\\n\")\n",
    "    file_write.write(\"Doe,30\\n\")"
   ]
  },
  {
   "cell_type": "markdown",
   "metadata": {},
   "source": [
    "### การอ่านไฟล์"
   ]
  },
  {
   "cell_type": "code",
   "execution_count": 6,
   "metadata": {},
   "outputs": [
    {
     "name": "stdout",
     "output_type": "stream",
     "text": [
      "Name,Age\n",
      "John,25\n",
      "Doe,30\n",
      "\n"
     ]
    }
   ],
   "source": [
    "with open(\"data.csv\",\"r\") as file_read:\n",
    "    print(file_read.read())"
   ]
  },
  {
   "cell_type": "markdown",
   "metadata": {},
   "source": [
    "## การเขียนไฟล์ CSV ร่วมกับ Loop"
   ]
  },
  {
   "cell_type": "code",
   "execution_count": 9,
   "metadata": {},
   "outputs": [],
   "source": [
    "with open(\"data_loop.csv\",\"w\") as file_write:\n",
    "    file_write.write(\"Number,Double\\n\")\n",
    "    for i in range(10):\n",
    "        file_write.write(f\"{i},{i*2}\\n\")"
   ]
  },
  {
   "cell_type": "code",
   "execution_count": 10,
   "metadata": {},
   "outputs": [
    {
     "name": "stdout",
     "output_type": "stream",
     "text": [
      "Number,Double\n",
      "0,0\n",
      "1,2\n",
      "2,4\n",
      "3,6\n",
      "4,8\n",
      "5,10\n",
      "6,12\n",
      "7,14\n",
      "8,16\n",
      "9,18\n",
      "\n"
     ]
    }
   ],
   "source": [
    "with open(\"data_loop.csv\",\"r\") as file_read:\n",
    "    print(file_read.read())"
   ]
  },
  {
   "cell_type": "markdown",
   "metadata": {},
   "source": [
    "## การเขียนไฟล์ร่วมกับ Input"
   ]
  },
  {
   "cell_type": "code",
   "execution_count": 11,
   "metadata": {},
   "outputs": [],
   "source": [
    "number = input(\"Enter number of People: \")\n",
    "with open(\"people.csv\",\"w\") as file_write:\n",
    "    file_write.write(\"Name,Age\\n\")\n",
    "    for i in range(int(number)):\n",
    "        name = input(\"Enter Name: \")\n",
    "        age = input(\"Enter Age: \")\n",
    "        file_write.write(f\"{name},{age}\\n\")"
   ]
  },
  {
   "cell_type": "markdown",
   "metadata": {},
   "source": [
    "## การเขียนไฟล์ร่วมกับ Time Stamp"
   ]
  },
  {
   "cell_type": "code",
   "execution_count": 18,
   "metadata": {},
   "outputs": [
    {
     "name": "stdout",
     "output_type": "stream",
     "text": [
      "0,2024-12-11 17:06:25\n",
      "1,2024-12-11 17:06:26\n",
      "2,2024-12-11 17:06:27\n",
      "3,2024-12-11 17:06:28\n",
      "4,2024-12-11 17:06:29\n",
      "5,2024-12-11 17:06:30\n",
      "6,2024-12-11 17:06:31\n",
      "7,2024-12-11 17:06:32\n",
      "8,2024-12-11 17:06:33\n",
      "9,2024-12-11 17:06:34\n"
     ]
    }
   ],
   "source": [
    "import time\n",
    "\n",
    "with open(\"file_time_stamp.csv\",\"w\") as file_write:\n",
    "    file_write.write(\"Number,Time\\n\")\n",
    "    for i in range(10):\n",
    "        time_stamp = time.strftime(\"%Y-%m-%d %H:%M:%S\", time.localtime())\n",
    "        file_write.write(str(i) + \",\" + time_stamp + \"\\n\")\n",
    "        time.sleep(1)\n",
    "        print(str(i) + \",\" + time_stamp)"
   ]
  },
  {
   "cell_type": "markdown",
   "metadata": {},
   "source": [
    "### การเขียนไฟล์ รวมกับ Function"
   ]
  },
  {
   "cell_type": "code",
   "execution_count": 19,
   "metadata": {},
   "outputs": [],
   "source": [
    "def WriteToFile(filename, data):\n",
    "    with open(filename,\"w\") as file_write:\n",
    "        file_write.write(data)"
   ]
  },
  {
   "cell_type": "code",
   "execution_count": 20,
   "metadata": {},
   "outputs": [],
   "source": [
    "data = \"Hello World\"\n",
    "WriteToFile(\"test.txt\",data)"
   ]
  },
  {
   "cell_type": "markdown",
   "metadata": {},
   "source": [
    "## การสร้าง Directory , Folder\n",
    "การใช้งาน Python ร่วมกับการจัดการ Directory หรือ โฟล์เดอร์ภายในระบบปฏิบัติการ"
   ]
  },
  {
   "cell_type": "markdown",
   "metadata": {},
   "source": [
    "### Import Module"
   ]
  },
  {
   "cell_type": "code",
   "execution_count": 24,
   "metadata": {},
   "outputs": [],
   "source": [
    "import os"
   ]
  },
  {
   "cell_type": "markdown",
   "metadata": {},
   "source": [
    "### แสดง Directory ปัจจุบัน"
   ]
  },
  {
   "cell_type": "code",
   "execution_count": null,
   "metadata": {},
   "outputs": [],
   "source": [
    "current_directory = os.getcwd()\n",
    "print(\"Current Directory:\", current_directory)"
   ]
  },
  {
   "cell_type": "markdown",
   "metadata": {},
   "source": [
    "### เปลี่ยน Directory"
   ]
  },
  {
   "cell_type": "code",
   "execution_count": null,
   "metadata": {},
   "outputs": [],
   "source": [
    "os.chdir(\"/path/to/new/directory\")\n",
    "print(\"Changed Directory:\", os.getcwd())\n",
    "\n"
   ]
  },
  {
   "cell_type": "markdown",
   "metadata": {},
   "source": [
    "### สร้าง Directory ใหม่\n"
   ]
  },
  {
   "cell_type": "code",
   "execution_count": null,
   "metadata": {},
   "outputs": [],
   "source": [
    "os.makedirs(\"new_folder\", exist_ok=True)\n",
    "print(\"Created Directory: new_folder\")\n"
   ]
  },
  {
   "cell_type": "markdown",
   "metadata": {},
   "source": [
    "### ลบ Directory\n"
   ]
  },
  {
   "cell_type": "code",
   "execution_count": null,
   "metadata": {},
   "outputs": [],
   "source": [
    "\n",
    "os.rmdir(\"new_folder\")\n",
    "print(\"Removed Directory: new_folder\")\n",
    "\n"
   ]
  },
  {
   "cell_type": "markdown",
   "metadata": {},
   "source": [
    "### แสดงรายการไฟล์และโฟลเดอร์ใน Directory\n"
   ]
  },
  {
   "cell_type": "code",
   "execution_count": null,
   "metadata": {},
   "outputs": [],
   "source": [
    "items = os.listdir(\".\")\n",
    "print(\"Items in Directory:\", items)"
   ]
  },
  {
   "cell_type": "markdown",
   "metadata": {},
   "source": [
    "## การเขียนไฟล์ร่วมกับการสร้าง Directory"
   ]
  },
  {
   "cell_type": "markdown",
   "metadata": {},
   "source": [
    "การสร้างไฟล์แบบไม่เปลี่ยนพื้นที่ทำงาน"
   ]
  },
  {
   "cell_type": "code",
   "execution_count": 25,
   "metadata": {},
   "outputs": [],
   "source": [
    "data = \"Hello World\"\n",
    "os.makedirs(\"new_folder\", exist_ok=True)\n",
    "with open(\"new_folder/test.txt\",\"w\") as file_write:\n",
    "    file_write.write(data)"
   ]
  },
  {
   "cell_type": "markdown",
   "metadata": {},
   "source": [
    "การสร้างไฟล์แบบเปลี่ยนพื้นที่ทำงาน"
   ]
  },
  {
   "cell_type": "code",
   "execution_count": 26,
   "metadata": {},
   "outputs": [],
   "source": [
    "os.chdir(\"./new_folder\")\n",
    "with open(\"ch_dir_test.txt\",\"w\") as file_write:\n",
    "    file_write.write(data)"
   ]
  },
  {
   "cell_type": "code",
   "execution_count": null,
   "metadata": {},
   "outputs": [],
   "source": []
  }
 ],
 "metadata": {
  "kernelspec": {
   "display_name": "base",
   "language": "python",
   "name": "python3"
  },
  "language_info": {
   "codemirror_mode": {
    "name": "ipython",
    "version": 3
   },
   "file_extension": ".py",
   "mimetype": "text/x-python",
   "name": "python",
   "nbconvert_exporter": "python",
   "pygments_lexer": "ipython3",
   "version": "3.12.2"
  }
 },
 "nbformat": 4,
 "nbformat_minor": 2
}
