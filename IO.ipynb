{
 "cells": [
  {
   "cell_type": "markdown",
   "metadata": {},
   "source": [
    "# I/O Read/Write Python\n",
    "I/O (Input/Output) ใน Python หมายถึงการอ่านและเขียนข้อมูลจากแหล่งต่างๆ เช่น\n",
    "- ไฟล์ (File)\n",
    "- คอนโซล (Console)\n",
    "- เน็ตเวิร์ก (Network)\n",
    "- ฐานข้อมูล (Database)\n",
    "- ฟังก์ชัน I/O พื้นฐาน\n",
    "- input() - อ่านข้อมูลจากคอนโซล\n",
    "- print() - เขียนข้อมูลไปยังคอนโซล\n",
    "- open() - อ่านและเขียนไฟล์\n",
    "- read() - อ่านข้อมูลจากไฟล์\n",
    "- write() - เขียนข้อมูลไปยังไฟล์\n",
    "- close() - ปิดไฟล์หลังการใช้งาน\n",
    "\n",
    "### ตัวอย่างการใช้ I/O\n",
    "```python\n",
    "# อ่านข้อมูลจากคอนโซล\n",
    "ชื่อ = input(\"กรุณาใส่ชื่อของคุณ: \")\n",
    "print(\"สวัสดี\", ชื่อ)\n",
    "\n",
    "# อ่านและเขียนไฟล์\n",
    "ไฟล์ = open(\"ตัวอย่าง.txt\", \"w\")\n",
    "ไฟล์.write(\"สวัสดีโลก!\")\n",
    "ไฟล์.close()\n",
    "\n",
    "ไฟล์ = open(\"ตัวอย่าง.txt\", \"r\")\n",
    "ข้อความ = ไฟล์.read()\n",
    "print(ข้อความ)\n",
    "ไฟล์\\.close()\n",
    "```\n",
    "### โหมดการเปิดไฟล์\n",
    "| Mode  | Description                      |\n",
    "|-------|----------------------------------|\n",
    "| `r`   | อ่าน (read)                     |\n",
    "| `w`   | เขียน (write)                   |\n",
    "| `a`   | เพิ่ม (append)                  |\n",
    "| `r+`  | อ่านและเขียน                    |\n",
    "| `w+`  | อ่านและเขียน (ลบข้อมูลเดิม)     |\n",
    "| `a+`  | อ่านและเพิ่ม                    |\n",
    "\n",
    "\n",
    "ข้อควรระวัง\n",
    "ต้องตรวจสอบว่าไฟล์อยู่ในตำแหน่งที่ถูกต้อง\n",
    "ต้องปิดไฟล์หลังการใช้งานเพื่อป้องกันการเสียหาย\n",
    "ต้องตรวจสอบสิทธิ์การเข้าถึงไฟล์"
   ]
  },
  {
   "cell_type": "markdown",
   "metadata": {},
   "source": [
    "## ตัวอย่าง"
   ]
  },
  {
   "cell_type": "markdown",
   "metadata": {},
   "source": [
    "### การเขียนไฟล์"
   ]
  },
  {
   "cell_type": "markdown",
   "metadata": {},
   "source": [
    "#### Method 1"
   ]
  },
  {
   "cell_type": "code",
   "execution_count": 1,
   "metadata": {},
   "outputs": [],
   "source": [
    "file_write = open(file=\"test.txt\", mode=\"w\") #เปิดสมุด\n",
    "file_write.write(\"Hello World\") # เขียนข้อความลงไปในสมุด\n",
    "file_write.close() # ปิดสมุด"
   ]
  },
  {
   "cell_type": "markdown",
   "metadata": {},
   "source": [
    "#### Method 2\n",
    "วิธีนี้จะนิยมเขียนมากกว่า เนื่องจากจะทำการปิดปฏิบัติการอัตโนมัติ"
   ]
  },
  {
   "cell_type": "code",
   "execution_count": null,
   "metadata": {},
   "outputs": [],
   "source": [
    "with open(\"test.txt\",\"w\") as file_write:\n",
    "    file_write.write(\"Hello World\")\n",
    "    ## logic\n",
    "\n",
    "with open(\"taszxc.txt\",\"w\") as file_write:\n",
    "    file_write.write(\"Hello World\")"
   ]
  },
  {
   "cell_type": "markdown",
   "metadata": {},
   "source": [
    "### การอ่านไฟล์"
   ]
  },
  {
   "cell_type": "code",
   "execution_count": 5,
   "metadata": {},
   "outputs": [
    {
     "name": "stdout",
     "output_type": "stream",
     "text": [
      "Hello World\n"
     ]
    }
   ],
   "source": [
    "file_read = open(file=\"test.txt\", mode=\"r\")\n",
    "print(file_read.read())\n",
    "file_read.close()"
   ]
  },
  {
   "cell_type": "code",
   "execution_count": 6,
   "metadata": {},
   "outputs": [
    {
     "name": "stdout",
     "output_type": "stream",
     "text": [
      "Hello World\n"
     ]
    }
   ],
   "source": [
    "with open(\"test.txt\",\"r\") as file_read:\n",
    "    print(file_read.read())"
   ]
  },
  {
   "cell_type": "markdown",
   "metadata": {},
   "source": [
    "### การเขียนไฟล์ในรูปแบบ CSV , (comma-separated values)"
   ]
  },
  {
   "cell_type": "markdown",
   "metadata": {},
   "source": [
    "### การเขียนไฟล์"
   ]
  },
  {
   "cell_type": "code",
   "execution_count": 9,
   "metadata": {},
   "outputs": [],
   "source": [
    "with open(\"data.csv\",\"w\") as file_write:\n",
    "    file_write.write(\"Name,Age\\n\")\n",
    "    file_write.write(\"John,25\\n\")\n",
    "    file_write.write(\"Doe,30\\n\")"
   ]
  },
  {
   "cell_type": "markdown",
   "metadata": {},
   "source": [
    "### การอ่านไฟล์"
   ]
  },
  {
   "cell_type": "code",
   "execution_count": 10,
   "metadata": {},
   "outputs": [
    {
     "name": "stdout",
     "output_type": "stream",
     "text": [
      "Name,Age\n",
      "John,25\n",
      "Doe,30\n",
      "\n"
     ]
    }
   ],
   "source": [
    "with open(\"data.csv\",\"r\") as file_read:\n",
    "    print(file_read.read())"
   ]
  },
  {
   "cell_type": "markdown",
   "metadata": {},
   "source": [
    "## การเขียนไฟล์ CSV ร่วมกับ Loop"
   ]
  },
  {
   "cell_type": "code",
   "execution_count": null,
   "metadata": {},
   "outputs": [],
   "source": [
    "with open(\"data_loop.csv\",\"w\") as file_write:\n",
    "    file_write.write(\"Number,Double\\n\")\n",
    "    for i in range(1,11):\n",
    "        file_write.write(f\"{i},{i*2}\\n\")\n"
   ]
  },
  {
   "cell_type": "code",
   "execution_count": 22,
   "metadata": {},
   "outputs": [
    {
     "name": "stdout",
     "output_type": "stream",
     "text": [
      "1, 2\n",
      "1, 2\n",
      "1, 2\n",
      "1, 2\n"
     ]
    }
   ],
   "source": [
    "i = 1\n",
    "x = 2\n",
    "print(\"1, 2\")\n",
    "print(f\"{i}, {x}\")\n",
    "print(\"%d, %d\" % (i, x))\n",
    "print(\"{}, {}\".format(i, x))"
   ]
  },
  {
   "cell_type": "code",
   "execution_count": 23,
   "metadata": {},
   "outputs": [
    {
     "name": "stdout",
     "output_type": "stream",
     "text": [
      "Number,Double\n",
      "1,2\n",
      "2,4\n",
      "3,6\n",
      "4,8\n",
      "5,10\n",
      "6,12\n",
      "7,14\n",
      "8,16\n",
      "9,18\n",
      "10,20\n",
      "\n"
     ]
    }
   ],
   "source": [
    "with open(\"data_loop.csv\",\"r\") as file_read:\n",
    "    print(file_read.read())"
   ]
  },
  {
   "cell_type": "markdown",
   "metadata": {},
   "source": [
    "## การเขียนไฟล์ร่วมกับ Input"
   ]
  },
  {
   "cell_type": "code",
   "execution_count": 24,
   "metadata": {},
   "outputs": [],
   "source": [
    "number = input(\"Enter number of People: \")\n",
    "with open(\"people.csv\",\"w\") as file_write:\n",
    "    file_write.write(\"Name,Age\\n\")\n",
    "    for i in range(int(number)):\n",
    "        name = input(\"Enter Name: \")\n",
    "        age = input(\"Enter Age: \")\n",
    "        file_write.write(f\"{name},{age}\\n\")"
   ]
  },
  {
   "cell_type": "markdown",
   "metadata": {},
   "source": [
    "## การเขียนไฟล์ร่วมกับ Time Stamp"
   ]
  },
  {
   "cell_type": "code",
   "execution_count": 25,
   "metadata": {},
   "outputs": [
    {
     "name": "stdout",
     "output_type": "stream",
     "text": [
      "0,2024-12-14 19:26:35\n",
      "1,2024-12-14 19:26:36\n",
      "2,2024-12-14 19:26:37\n",
      "3,2024-12-14 19:26:38\n",
      "4,2024-12-14 19:26:39\n",
      "5,2024-12-14 19:26:40\n",
      "6,2024-12-14 19:26:41\n",
      "7,2024-12-14 19:26:42\n",
      "8,2024-12-14 19:26:43\n",
      "9,2024-12-14 19:26:44\n"
     ]
    }
   ],
   "source": [
    "import time # นำเข้า Library time\n",
    "\n",
    "with open(\"file_time_stamp.csv\",\"w\") as file_write: # สร้างไฟล์ file_time_stamp.csv และเปิดสมุด\n",
    "    file_write.write(\"Number,Time\\n\") # เขียนข้อความลงไปในสมุด\n",
    "    for i in range(10): # วนลูป 10 รอบ\n",
    "        time_stamp = time.strftime(\"%Y-%m-%d %H:%M:%S\", time.localtime()) # ดึงเวลาปัจจุบัน\n",
    "        file_write.write(f\"{i},{time_stamp}\\n\")\n",
    "        time.sleep(1) # หยุดรอ 1 วินาที\n",
    "        print(str(i) + \",\" + time_stamp)"
   ]
  },
  {
   "cell_type": "markdown",
   "metadata": {},
   "source": [
    "### การเขียนไฟล์ รวมกับ Function"
   ]
  },
  {
   "cell_type": "code",
   "execution_count": 26,
   "metadata": {},
   "outputs": [],
   "source": [
    "def WriteToFile(filename, data):\n",
    "    with open(filename,\"w\") as file_write:\n",
    "        file_write.write(data)"
   ]
  },
  {
   "cell_type": "code",
   "execution_count": 27,
   "metadata": {},
   "outputs": [],
   "source": [
    "data = \"Hello World\"\n",
    "WriteToFile(filename=\"test.txt\",data=data)"
   ]
  },
  {
   "cell_type": "markdown",
   "metadata": {},
   "source": [
    "## การสร้าง Directory , Folder\n",
    "การใช้งาน Python ร่วมกับการจัดการ Directory หรือ โฟล์เดอร์ภายในระบบปฏิบัติการ"
   ]
  },
  {
   "cell_type": "markdown",
   "metadata": {},
   "source": [
    "### Import Module"
   ]
  },
  {
   "cell_type": "code",
   "execution_count": null,
   "metadata": {},
   "outputs": [],
   "source": [
    "import os # นำเข้า Library os"
   ]
  },
  {
   "cell_type": "markdown",
   "metadata": {},
   "source": [
    "### แสดง Directory ปัจจุบัน"
   ]
  },
  {
   "cell_type": "code",
   "execution_count": 29,
   "metadata": {},
   "outputs": [
    {
     "name": "stdout",
     "output_type": "stream",
     "text": [
      "Current Directory: /home/cepheusn22/Documents/TA/AdvancPython_Tutoring\n"
     ]
    }
   ],
   "source": [
    "current_directory = os.getcwd()\n",
    "print(\"Current Directory:\", current_directory)"
   ]
  },
  {
   "cell_type": "markdown",
   "metadata": {},
   "source": [
    "### เปลี่ยน Directory"
   ]
  },
  {
   "cell_type": "code",
   "execution_count": 30,
   "metadata": {},
   "outputs": [
    {
     "name": "stdout",
     "output_type": "stream",
     "text": [
      "Changed Directory: /home/cepheusn22/Documents/TA\n"
     ]
    }
   ],
   "source": [
    "os.chdir(\"/home/cepheusn22/Documents/TA/\")\n",
    "print(\"Changed Directory:\", os.getcwd())\n"
   ]
  },
  {
   "cell_type": "markdown",
   "metadata": {},
   "source": [
    "### สร้าง Directory ใหม่\n"
   ]
  },
  {
   "cell_type": "code",
   "execution_count": null,
   "metadata": {},
   "outputs": [
    {
     "name": "stdout",
     "output_type": "stream",
     "text": [
      "Created Directory: new_folder\n"
     ]
    }
   ],
   "source": [
    "os.makedirs(\"new_folder\", exist_ok=True)\n",
    "print(\"Created Directory: new_folder\")\n",
    "\n"
   ]
  },
  {
   "cell_type": "code",
   "execution_count": 34,
   "metadata": {},
   "outputs": [
    {
     "name": "stdout",
     "output_type": "stream",
     "text": [
      "Changed Directory: /home/cepheusn22/Documents/TA/AdvancPython_Tutoring\n"
     ]
    }
   ],
   "source": [
    "os.chdir(\"/home/cepheusn22/Documents/TA/AdvancPython_Tutoring\")\n",
    "print(\"Changed Directory:\", os.getcwd())"
   ]
  },
  {
   "cell_type": "code",
   "execution_count": 33,
   "metadata": {},
   "outputs": [],
   "source": [
    "os.makedirs(\"/home/cepheusn22/Documents/Docs/data\", exist_ok=True)\n"
   ]
  },
  {
   "cell_type": "markdown",
   "metadata": {},
   "source": [
    "### ลบ Directory\n"
   ]
  },
  {
   "cell_type": "code",
   "execution_count": 35,
   "metadata": {},
   "outputs": [
    {
     "name": "stdout",
     "output_type": "stream",
     "text": [
      "Removed Directory: new_folder\n"
     ]
    }
   ],
   "source": [
    "\n",
    "os.rmdir(\"/home/cepheusn22/Documents/TA/new_folder\")\n",
    "print(\"Removed Directory: new_folder\")\n",
    "\n"
   ]
  },
  {
   "cell_type": "markdown",
   "metadata": {},
   "source": [
    "### แสดงรายการไฟล์และโฟลเดอร์ใน Directory\n"
   ]
  },
  {
   "cell_type": "code",
   "execution_count": 38,
   "metadata": {},
   "outputs": [
    {
     "name": "stdout",
     "output_type": "stream",
     "text": [
      "Items in Directory: ['function.ipynb', 'IO.ipynb', 'oop.ipynb', '.git', 'README.md', 'ui', 'test.txt', 'taszxc.txt', 'data.csv', 'data_loop.csv', 'people.csv', 'file_time_stamp.csv']\n"
     ]
    }
   ],
   "source": [
    "items = os.listdir(\".\")\n",
    "print(\"Items in Directory:\", items)"
   ]
  },
  {
   "cell_type": "markdown",
   "metadata": {},
   "source": [
    "## การเขียนไฟล์ร่วมกับการสร้าง Directory"
   ]
  },
  {
   "cell_type": "markdown",
   "metadata": {},
   "source": [
    "การสร้างไฟล์แบบไม่เปลี่ยนพื้นที่ทำงาน"
   ]
  },
  {
   "cell_type": "code",
   "execution_count": 39,
   "metadata": {},
   "outputs": [],
   "source": [
    "data = \"Hello World\"\n",
    "os.makedirs(\"new_folder\", exist_ok=True)\n",
    "with open(\"new_folder/test.txt\",\"w\") as file_write:\n",
    "    file_write.write(data)"
   ]
  },
  {
   "cell_type": "markdown",
   "metadata": {},
   "source": [
    "การสร้างไฟล์แบบเปลี่ยนพื้นที่ทำงาน"
   ]
  },
  {
   "cell_type": "code",
   "execution_count": 40,
   "metadata": {},
   "outputs": [],
   "source": [
    "os.chdir(\"./new_folder\")\n",
    "with open(\"ch_dir_test.txt\",\"w\") as file_write:\n",
    "    file_write.write(data)"
   ]
  },
  {
   "cell_type": "code",
   "execution_count": null,
   "metadata": {},
   "outputs": [],
   "source": []
  }
 ],
 "metadata": {
  "kernelspec": {
   "display_name": "base",
   "language": "python",
   "name": "python3"
  },
  "language_info": {
   "codemirror_mode": {
    "name": "ipython",
    "version": 3
   },
   "file_extension": ".py",
   "mimetype": "text/x-python",
   "name": "python",
   "nbconvert_exporter": "python",
   "pygments_lexer": "ipython3",
   "version": "3.12.2"
  }
 },
 "nbformat": 4,
 "nbformat_minor": 2
}
