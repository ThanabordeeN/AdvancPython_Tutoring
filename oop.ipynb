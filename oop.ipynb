{
 "cells": [
  {
   "cell_type": "markdown",
   "metadata": {},
   "source": [
    "# OOP Python\n",
    "OOP (Object-Oriented Programming) หรือ การเขียนโปรแกรมเชิงวัตถุ เป็นแนวคิดการเขียนโปรแกรมที่มุ่งเน้นการจัดการข้อมูลและฟังก์ชันในรูปของ \"วัตถุ\" (Objects) ซึ่งเป็นการรวมกันของ ข้อมูล (Attributes) และ พฤติกรรม (Methods) เข้าไว้ด้วยกัน\n",
    "\n",
    "Python เป็นภาษาโปรแกรมที่รองรับ OOP อย่างสมบูรณ์ และสามารถใช้สร้างโปรแกรมที่มีโครงสร้างและใช้งานซ้ำได้ง่าย"
   ]
  },
  {
   "cell_type": "markdown",
   "metadata": {},
   "source": [
    "### ตัวอย่าง\n",
    "**การทำงาน**\n",
    "John เป็นคน -> John เป็นคน และมีอาชีพเป็น Engineer"
   ]
  },
  {
   "cell_type": "code",
   "execution_count": 3,
   "metadata": {},
   "outputs": [
    {
     "name": "stdout",
     "output_type": "stream",
     "text": [
      "John is 25 years old.\n"
     ]
    }
   ],
   "source": [
    "class Person:\n",
    "    def __init__(self, name, age):\n",
    "        self.name = name\n",
    "        self.age = age\n",
    "    \n",
    "    def info(self):\n",
    "        return f\"{self.name} is {self.age} years old.\"\n",
    "\n",
    "john = Person(\"John\", 25) \n",
    "# จอนเป็นคนที่อายุ 25 ปี\n",
    "\n",
    "print(john.info()) # John is 25 years old."
   ]
  },
  {
   "cell_type": "code",
   "execution_count": 5,
   "metadata": {},
   "outputs": [
    {
     "name": "stdout",
     "output_type": "stream",
     "text": [
      "John is a Software Engineer.\n",
      "John is a Software Engineer and is 40 years old.\n"
     ]
    }
   ],
   "source": [
    "class Career(Person):\n",
    "    def __init__(self, name, age, job):\n",
    "        super().__init__(name, age)\n",
    "        self.job = job\n",
    "    \n",
    "    def info(self):\n",
    "        return f\"{self.name} is a {self.job}.\"\n",
    "    \n",
    "    def career_info(self):\n",
    "        return f\"{self.name} is a {self.job} and is {self.age} years old.\"\n",
    "\n",
    "\n",
    "john = Career(\"John\", 40, \"Software Engineer\")\n",
    "print(john.info())\n",
    "\n",
    "print(john.career_info()) # John is a Software Engineer and is 40 years old.\n",
    "\n"
   ]
  },
  {
   "cell_type": "markdown",
   "metadata": {},
   "source": [
    "### ตัวอย่าง OOP ในการเขียนคล้ายกับเกม"
   ]
  },
  {
   "cell_type": "markdown",
   "metadata": {},
   "source": [
    "#### Player"
   ]
  },
  {
   "cell_type": "code",
   "execution_count": 6,
   "metadata": {},
   "outputs": [],
   "source": [
    "class Charactor:\n",
    "    def __init__(self, name, job):\n",
    "        self.name = name\n",
    "        self.job = job\n",
    "    \n",
    "    def info(self):\n",
    "        return f\"{self.name} is a {self.job}.\"\n",
    "    \n",
    "class Player(Charactor):\n",
    "    def __init__(self, name, job, level):\n",
    "        super().__init__(name, job)\n",
    "        self.level = level\n",
    "    \n",
    "    def info(self):\n",
    "        return f\"{self.name} is a {self.job} at level {self.level}.\"\n",
    "    def attack(self):\n",
    "        return f\"{self.name} is attacking!\"\n",
    "    def move(self,key):\n",
    "        move_key = [\"w\",\"a\",\"s\",\"d\"]\n",
    "        if key not in move_key:\n",
    "            return f\"Invalid key\"\n",
    "        if key == \"w\":\n",
    "            return f\"{self.name} is moving forward\"\n",
    "        if key == \"a\":\n",
    "            return f\"{self.name} is moving left\"\n",
    "        if key == \"s\":\n",
    "            return f\"{self.name} is moving back\"\n",
    "        if key == \"d\":\n",
    "            return f\"{self.name} is moving right\"\n",
    "\n"
   ]
  },
  {
   "cell_type": "code",
   "execution_count": 7,
   "metadata": {},
   "outputs": [
    {
     "name": "stdout",
     "output_type": "stream",
     "text": [
      "John is a Warrior at level 5.\n",
      "John is moving forward\n",
      "John is moving back\n",
      "John is moving back\n",
      "John is moving left\n",
      "John is moving right\n",
      "John is moving back\n",
      "John is moving back\n",
      "John is moving left\n",
      "Invalid key\n",
      "Invalid key\n",
      "Invalid key\n",
      "Invalid key\n",
      "Invalid key\n",
      "Invalid key\n",
      "Invalid key\n",
      "Invalid key\n",
      "Invalid key\n"
     ]
    }
   ],
   "source": [
    "player1 = Player(\"John\", \"Warrior\", 5)\n",
    "print(player1.info())\n",
    "while True:\n",
    "    key = input(\"Enter key: \")\n",
    "    if key == \"q\":\n",
    "        break\n",
    "    print(player1.move(key))"
   ]
  },
  {
   "cell_type": "markdown",
   "metadata": {},
   "source": [
    "#### NPC "
   ]
  },
  {
   "cell_type": "code",
   "execution_count": 8,
   "metadata": {},
   "outputs": [],
   "source": [
    "class NPC(Charactor):\n",
    "    def __init__(self, name, job):\n",
    "        super().__init__(name, job)\n",
    "    def info(self):\n",
    "        return f\"{self.name} is a {self.job}\"\n",
    "    def talk(self):\n",
    "        return f\"{self.name} says 'Hello!'\""
   ]
  },
  {
   "cell_type": "code",
   "execution_count": 10,
   "metadata": {},
   "outputs": [
    {
     "name": "stdout",
     "output_type": "stream",
     "text": [
      "Shopkeeper is a Merchant\n",
      "Shopkeeper says 'Hello!'\n",
      "----------------\n",
      "Guard is a Knight\n",
      "Guard says 'Hello!'\n"
     ]
    }
   ],
   "source": [
    "NPC1 = NPC(\"Shopkeeper\", \"Merchant\")\n",
    "print(NPC1.info())\n",
    "print(NPC1.talk())\n",
    "print(\"----------------\")\n",
    "NPC2 = NPC(\"Guard\", \"Knight\")\n",
    "print(NPC2.info())\n",
    "print(NPC2.talk())"
   ]
  }
 ],
 "metadata": {
  "kernelspec": {
   "display_name": "base",
   "language": "python",
   "name": "python3"
  },
  "language_info": {
   "codemirror_mode": {
    "name": "ipython",
    "version": 3
   },
   "file_extension": ".py",
   "mimetype": "text/x-python",
   "name": "python",
   "nbconvert_exporter": "python",
   "pygments_lexer": "ipython3",
   "version": "3.12.2"
  }
 },
 "nbformat": 4,
 "nbformat_minor": 2
}
